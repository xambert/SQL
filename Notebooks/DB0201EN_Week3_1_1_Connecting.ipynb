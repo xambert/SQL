{
  "cells": [
    {
      "cell_type": "markdown",
      "metadata": {
        "id": "NRZcCN8eupqg"
      },
      "source": [
        "<center>\n",
        "    <img src=\"https://s3-api.us-geo.objectstorage.softlayer.net/cf-courses-data/CognitiveClass/Logos/organization_logo/organization_logo.png\" width=\"300\" alt=\"cognitiveclass.ai logo\"  />\n",
        "</center>\n",
        "\n",
        "# Connect to Db2 database on Cloud using Python\n",
        "\n",
        "Estimated time needed: **15** minutes\n",
        "\n",
        "## Objectives\n",
        "\n",
        "After completing this lab you will be able to:\n",
        "\n",
        "*   Import the ibm_db Python library\n",
        "*   Enter the database connection credentials\n",
        "*   Create the database connection\n",
        "*   Close the database connection\n"
      ]
    },
    {
      "cell_type": "markdown",
      "metadata": {
        "id": "pxGAjoyVupqo"
      },
      "source": [
        "**Note:** Please follow the instructions given in the first Lab of this course to Create a database service instance of Db2 on Cloud and retrieve your database Service Credentials.\n",
        "\n",
        "## Import the `ibm_db` Python library\n",
        "\n",
        "The `ibm_db` [API ](https://pypi.python.org/pypi/ibm_db/?utm_medium=Exinfluencer&utm_source=Exinfluencer&utm_content=000026UJ&utm_term=10006555&utm_id=NA-SkillsNetwork-Channel-SkillsNetworkCoursesIBMDeveloperSkillsNetworkDB0201ENSkillsNetwork20127838-2021-01-01) provides a variety of useful Python functions for accessing and manipulating data in an IBM® data server database, including functions for connecting to a database, preparing and issuing SQL statements, fetching rows from result sets, calling stored procedures, committing and rolling back transactions, handling errors, and retrieving metadata.\n",
        "\n",
        "We first import the ibm_db library into our Python Application\n",
        "\n",
        "Execute the following cells by clicking within it and then\n",
        "press `Shift` and `Enter` keys simultaneously\n",
        "\n",
        "The following required modules are pre-installed in the Skills Network Labs environment. However if you run this notebook commands in a different Jupyter environment (e.g. Watson Studio or Ananconda) you may need to install these libraries by removing the `#` sign before `!pip` in the code cell below.\n"
      ]
    },
    {
      "cell_type": "code",
      "execution_count": 2,
      "metadata": {
        "colab": {
          "base_uri": "https://localhost:8080/"
        },
        "id": "Phbj9Yk2upqr",
        "outputId": "158c7274-25e1-4956-ae16-dde46ee8223b"
      },
      "outputs": [
        {
          "output_type": "stream",
          "name": "stdout",
          "text": [
            "Collecting ibm_db==3.1.0\n",
            "  Downloading ibm_db-3.1.0.tar.gz (797 kB)\n",
            "\u001b[?25l\r\u001b[K     |▍                               | 10 kB 24.5 MB/s eta 0:00:01\r\u001b[K     |▉                               | 20 kB 30.3 MB/s eta 0:00:01\r\u001b[K     |█▎                              | 30 kB 16.3 MB/s eta 0:00:01\r\u001b[K     |█▋                              | 40 kB 8.8 MB/s eta 0:00:01\r\u001b[K     |██                              | 51 kB 8.4 MB/s eta 0:00:01\r\u001b[K     |██▌                             | 61 kB 9.9 MB/s eta 0:00:01\r\u001b[K     |██▉                             | 71 kB 10.7 MB/s eta 0:00:01\r\u001b[K     |███▎                            | 81 kB 9.8 MB/s eta 0:00:01\r\u001b[K     |███▊                            | 92 kB 10.8 MB/s eta 0:00:01\r\u001b[K     |████                            | 102 kB 9.4 MB/s eta 0:00:01\r\u001b[K     |████▌                           | 112 kB 9.4 MB/s eta 0:00:01\r\u001b[K     |█████                           | 122 kB 9.4 MB/s eta 0:00:01\r\u001b[K     |█████▍                          | 133 kB 9.4 MB/s eta 0:00:01\r\u001b[K     |█████▊                          | 143 kB 9.4 MB/s eta 0:00:01\r\u001b[K     |██████▏                         | 153 kB 9.4 MB/s eta 0:00:01\r\u001b[K     |██████▋                         | 163 kB 9.4 MB/s eta 0:00:01\r\u001b[K     |███████                         | 174 kB 9.4 MB/s eta 0:00:01\r\u001b[K     |███████▍                        | 184 kB 9.4 MB/s eta 0:00:01\r\u001b[K     |███████▉                        | 194 kB 9.4 MB/s eta 0:00:01\r\u001b[K     |████████▏                       | 204 kB 9.4 MB/s eta 0:00:01\r\u001b[K     |████████▋                       | 215 kB 9.4 MB/s eta 0:00:01\r\u001b[K     |█████████                       | 225 kB 9.4 MB/s eta 0:00:01\r\u001b[K     |█████████▌                      | 235 kB 9.4 MB/s eta 0:00:01\r\u001b[K     |█████████▉                      | 245 kB 9.4 MB/s eta 0:00:01\r\u001b[K     |██████████▎                     | 256 kB 9.4 MB/s eta 0:00:01\r\u001b[K     |██████████▊                     | 266 kB 9.4 MB/s eta 0:00:01\r\u001b[K     |███████████                     | 276 kB 9.4 MB/s eta 0:00:01\r\u001b[K     |███████████▌                    | 286 kB 9.4 MB/s eta 0:00:01\r\u001b[K     |████████████                    | 296 kB 9.4 MB/s eta 0:00:01\r\u001b[K     |████████████▎                   | 307 kB 9.4 MB/s eta 0:00:01\r\u001b[K     |████████████▊                   | 317 kB 9.4 MB/s eta 0:00:01\r\u001b[K     |█████████████▏                  | 327 kB 9.4 MB/s eta 0:00:01\r\u001b[K     |█████████████▋                  | 337 kB 9.4 MB/s eta 0:00:01\r\u001b[K     |██████████████                  | 348 kB 9.4 MB/s eta 0:00:01\r\u001b[K     |██████████████▍                 | 358 kB 9.4 MB/s eta 0:00:01\r\u001b[K     |██████████████▉                 | 368 kB 9.4 MB/s eta 0:00:01\r\u001b[K     |███████████████▏                | 378 kB 9.4 MB/s eta 0:00:01\r\u001b[K     |███████████████▋                | 389 kB 9.4 MB/s eta 0:00:01\r\u001b[K     |████████████████                | 399 kB 9.4 MB/s eta 0:00:01\r\u001b[K     |████████████████▍               | 409 kB 9.4 MB/s eta 0:00:01\r\u001b[K     |████████████████▉               | 419 kB 9.4 MB/s eta 0:00:01\r\u001b[K     |█████████████████▎              | 430 kB 9.4 MB/s eta 0:00:01\r\u001b[K     |█████████████████▊              | 440 kB 9.4 MB/s eta 0:00:01\r\u001b[K     |██████████████████              | 450 kB 9.4 MB/s eta 0:00:01\r\u001b[K     |██████████████████▌             | 460 kB 9.4 MB/s eta 0:00:01\r\u001b[K     |███████████████████             | 471 kB 9.4 MB/s eta 0:00:01\r\u001b[K     |███████████████████▎            | 481 kB 9.4 MB/s eta 0:00:01\r\u001b[K     |███████████████████▊            | 491 kB 9.4 MB/s eta 0:00:01\r\u001b[K     |████████████████████▏           | 501 kB 9.4 MB/s eta 0:00:01\r\u001b[K     |████████████████████▌           | 512 kB 9.4 MB/s eta 0:00:01\r\u001b[K     |█████████████████████           | 522 kB 9.4 MB/s eta 0:00:01\r\u001b[K     |█████████████████████▍          | 532 kB 9.4 MB/s eta 0:00:01\r\u001b[K     |█████████████████████▉          | 542 kB 9.4 MB/s eta 0:00:01\r\u001b[K     |██████████████████████▏         | 552 kB 9.4 MB/s eta 0:00:01\r\u001b[K     |██████████████████████▋         | 563 kB 9.4 MB/s eta 0:00:01\r\u001b[K     |███████████████████████         | 573 kB 9.4 MB/s eta 0:00:01\r\u001b[K     |███████████████████████▍        | 583 kB 9.4 MB/s eta 0:00:01\r\u001b[K     |███████████████████████▉        | 593 kB 9.4 MB/s eta 0:00:01\r\u001b[K     |████████████████████████▎       | 604 kB 9.4 MB/s eta 0:00:01\r\u001b[K     |████████████████████████▋       | 614 kB 9.4 MB/s eta 0:00:01\r\u001b[K     |█████████████████████████       | 624 kB 9.4 MB/s eta 0:00:01\r\u001b[K     |█████████████████████████▌      | 634 kB 9.4 MB/s eta 0:00:01\r\u001b[K     |██████████████████████████      | 645 kB 9.4 MB/s eta 0:00:01\r\u001b[K     |██████████████████████████▎     | 655 kB 9.4 MB/s eta 0:00:01\r\u001b[K     |██████████████████████████▊     | 665 kB 9.4 MB/s eta 0:00:01\r\u001b[K     |███████████████████████████▏    | 675 kB 9.4 MB/s eta 0:00:01\r\u001b[K     |███████████████████████████▌    | 686 kB 9.4 MB/s eta 0:00:01\r\u001b[K     |████████████████████████████    | 696 kB 9.4 MB/s eta 0:00:01\r\u001b[K     |████████████████████████████▍   | 706 kB 9.4 MB/s eta 0:00:01\r\u001b[K     |████████████████████████████▊   | 716 kB 9.4 MB/s eta 0:00:01\r\u001b[K     |█████████████████████████████▏  | 727 kB 9.4 MB/s eta 0:00:01\r\u001b[K     |█████████████████████████████▋  | 737 kB 9.4 MB/s eta 0:00:01\r\u001b[K     |██████████████████████████████  | 747 kB 9.4 MB/s eta 0:00:01\r\u001b[K     |██████████████████████████████▍ | 757 kB 9.4 MB/s eta 0:00:01\r\u001b[K     |██████████████████████████████▉ | 768 kB 9.4 MB/s eta 0:00:01\r\u001b[K     |███████████████████████████████▎| 778 kB 9.4 MB/s eta 0:00:01\r\u001b[K     |███████████████████████████████▋| 788 kB 9.4 MB/s eta 0:00:01\r\u001b[K     |████████████████████████████████| 797 kB 9.4 MB/s \n",
            "\u001b[?25h  Installing build dependencies ... \u001b[?25l\u001b[?25hdone\n",
            "  Getting requirements to build wheel ... \u001b[?25l\u001b[?25hdone\n",
            "  Installing backend dependencies ... \u001b[?25l\u001b[?25hdone\n",
            "    Preparing wheel metadata ... \u001b[?25l\u001b[?25hdone\n",
            "Collecting ibm_db_sa==0.3.3\n",
            "  Downloading ibm_db_sa-0.3.3.tar.gz (24 kB)\n",
            "Collecting sqlalchemy>=0.7.3\n",
            "  Downloading SQLAlchemy-1.4.34-cp37-cp37m-manylinux_2_5_x86_64.manylinux1_x86_64.manylinux_2_17_x86_64.manylinux2014_x86_64.whl (1.6 MB)\n",
            "\u001b[K     |████████████████████████████████| 1.6 MB 46.4 MB/s \n",
            "\u001b[?25hCollecting importlib-metadata\n",
            "  Downloading importlib_metadata-4.11.3-py3-none-any.whl (18 kB)\n",
            "Collecting greenlet!=0.4.17\n",
            "  Downloading greenlet-1.1.2-cp37-cp37m-manylinux_2_17_x86_64.manylinux2014_x86_64.whl (150 kB)\n",
            "\u001b[K     |████████████████████████████████| 150 kB 60.5 MB/s \n",
            "\u001b[?25hCollecting typing-extensions>=3.6.4\n",
            "  Downloading typing_extensions-4.1.1-py3-none-any.whl (26 kB)\n",
            "Collecting zipp>=0.5\n",
            "  Downloading zipp-3.7.0-py3-none-any.whl (5.3 kB)\n",
            "Building wheels for collected packages: ibm-db, ibm-db-sa\n",
            "  Building wheel for ibm-db (PEP 517) ... \u001b[?25l\u001b[?25hdone\n",
            "  Created wheel for ibm-db: filename=ibm_db-3.1.0-cp37-cp37m-linux_x86_64.whl size=41343155 sha256=e3acdc4c5ce9c0dcbf2ef4044e074c0a4434ab09a7ddc8ce4f385e229866eaf2\n",
            "  Stored in directory: /root/.cache/pip/wheels/47/0a/77/b8b3be9a85b29763931206a34e13bcc1764e3ef13548d09797\n",
            "  Building wheel for ibm-db-sa (setup.py) ... \u001b[?25l\u001b[?25hdone\n",
            "  Created wheel for ibm-db-sa: filename=ibm_db_sa-0.3.3-py3-none-any.whl size=27426 sha256=2ee363312b07f802c010d21d7203481245c44a7748e1bd0a8719eef519fcb4d2\n",
            "  Stored in directory: /root/.cache/pip/wheels/36/6c/6c/1b1edc5bbbc3956bcc174635c0608f814d4e5da891b14fb6c6\n",
            "Successfully built ibm-db ibm-db-sa\n",
            "Installing collected packages: zipp, typing-extensions, importlib-metadata, greenlet, sqlalchemy, ibm-db-sa, ibm-db\n",
            "  Attempting uninstall: zipp\n",
            "    Found existing installation: zipp 3.7.0\n",
            "    Uninstalling zipp-3.7.0:\n",
            "      Successfully uninstalled zipp-3.7.0\n",
            "  Attempting uninstall: typing-extensions\n",
            "    Found existing installation: typing-extensions 3.10.0.2\n",
            "    Uninstalling typing-extensions-3.10.0.2:\n",
            "      Successfully uninstalled typing-extensions-3.10.0.2\n",
            "  Attempting uninstall: importlib-metadata\n",
            "    Found existing installation: importlib-metadata 4.11.3\n",
            "    Uninstalling importlib-metadata-4.11.3:\n",
            "      Successfully uninstalled importlib-metadata-4.11.3\n",
            "  Attempting uninstall: greenlet\n",
            "    Found existing installation: greenlet 1.1.2\n",
            "    Uninstalling greenlet-1.1.2:\n",
            "      Successfully uninstalled greenlet-1.1.2\n",
            "  Attempting uninstall: sqlalchemy\n",
            "    Found existing installation: SQLAlchemy 1.4.32\n",
            "    Uninstalling SQLAlchemy-1.4.32:\n",
            "      Successfully uninstalled SQLAlchemy-1.4.32\n",
            "\u001b[31mERROR: pip's dependency resolver does not currently take into account all the packages that are installed. This behaviour is the source of the following dependency conflicts.\n",
            "tensorflow 2.8.0 requires tf-estimator-nightly==2.8.0.dev2021122109, which is not installed.\n",
            "arviz 0.11.4 requires typing-extensions<4,>=3.7.4.3, but you have typing-extensions 4.1.1 which is incompatible.\u001b[0m\n",
            "Successfully installed greenlet-1.1.2 ibm-db-3.1.0 ibm-db-sa-0.3.3 importlib-metadata-4.11.3 sqlalchemy-1.4.34 typing-extensions-4.1.1 zipp-3.7.0\n",
            "Found existing installation: SQLAlchemy 1.4.34\n",
            "Uninstalling SQLAlchemy-1.4.34:\n",
            "  Successfully uninstalled SQLAlchemy-1.4.34\n",
            "Collecting sqlalchemy==1.3.24\n",
            "  Downloading SQLAlchemy-1.3.24-cp37-cp37m-manylinux2010_x86_64.whl (1.3 MB)\n",
            "\u001b[K     |████████████████████████████████| 1.3 MB 7.3 MB/s \n",
            "\u001b[?25hInstalling collected packages: sqlalchemy\n",
            "Successfully installed sqlalchemy-1.3.24\n"
          ]
        }
      ],
      "source": [
        "# These libraries are pre-installed in SN Labs. If running in another environment please uncomment lines below to install them:\n",
        "!pip install --force-reinstall ibm_db==3.1.0 ibm_db_sa==0.3.3\n",
        "# Ensure we don't load_ext with sqlalchemy>=1.4 (incompadible)\n",
        "!pip uninstall sqlalchemy==1.4 -y && pip install sqlalchemy==1.3.24\n",
        "# !pip install ipython-sql"
      ]
    },
    {
      "cell_type": "code",
      "execution_count": 3,
      "metadata": {
        "id": "8-6vlciDupqt"
      },
      "outputs": [],
      "source": [
        "import ibm_db"
      ]
    },
    {
      "cell_type": "markdown",
      "metadata": {
        "id": "CZ8wpCtEupqt"
      },
      "source": [
        "When the command above completes, the `ibm_db` library is loaded in your notebook.\n",
        "\n",
        "## Identify the database connection credentials\n",
        "\n",
        "Connecting to dashDB or DB2 database requires the following information:\n",
        "\n",
        "*   Driver Name\n",
        "*   Database name\n",
        "*   Host DNS name or IP address\n",
        "*   Host port\n",
        "*   Connection protocol\n",
        "*   User ID (or username)\n",
        "*   User Password\n",
        "\n",
        "**Notice:** To obtain credentials please refer to the instructions given in the first Lab of this course\n",
        "\n",
        "Now enter your database credentials below and execute the cell with `Shift` + `Enter`\n"
      ]
    },
    {
      "cell_type": "code",
      "execution_count": 9,
      "metadata": {
        "id": "6UWuccvZupqu"
      },
      "outputs": [],
      "source": [
        "#Replace the placeholder values with your actual Db2 hostname, username, and password:\n",
        "dsn_hostname = \"8dfd4d-99de-440d-9991-629c01b3832d.bs2io90l08kqb1od8lcg.databases.appdomain.cloud\" # e.g.: \"54a2f15b-5c0f-46df-8954-7e38e612c2bd.c1ogj3sd0tgtu0lqde00.databases.appdomain.cloud\"\n",
        "dsn_uid = \"frc901\"       # e.g. \"abc12345\"\n",
        "dsn_pwd = \"Xw8HwHidijmLyu\"     # e.g. \"7dBZ3wWt9XN6$o0J\"\n",
        "\n",
        "dsn_driver = \"{IBM DB2 ODBC DRIVER}\"\n",
        "dsn_database = \"BLUDB\"            # e.g. \"BLUDB\"\n",
        "dsn_port = \"3019\"                # e.g. \"32733\" \n",
        "dsn_protocol = \"TCPIP\"            # i.e. \"TCPIP\"\n",
        "dsn_security = \"SSL\"              #i.e. \"SSL\""
      ]
    },
    {
      "cell_type": "markdown",
      "metadata": {
        "id": "jhZ7kE-Iupqw"
      },
      "source": [
        "## Create the DB2 database connection\n",
        "\n",
        "Ibm_db API uses the IBM Data Server Driver for ODBC and CLI APIs to connect to IBM DB2 and Informix.\n",
        "\n",
        "Lets build the dsn connection string using the credentials you entered above\n"
      ]
    },
    {
      "cell_type": "code",
      "execution_count": 10,
      "metadata": {
        "colab": {
          "base_uri": "https://localhost:8080/"
        },
        "id": "26Q2C8bIupqx",
        "outputId": "b70c6713-7490-4a30-95ab-ee1f846d8265"
      },
      "outputs": [
        {
          "output_type": "stream",
          "name": "stdout",
          "text": [
            "DRIVER={IBM DB2 ODBC DRIVER};DATABASE=BLUDB;HOSTNAME=824dfd4d-99de-440d-9991-629c01b3832d.bs2io90l08kqb1od8lcg.databases.appdomain.cloud;PORT=30119;PROTOCOL=TCPIP;UID=frc90031;PWD=Xw8HwHid9kijmLyu;SECURITY=SSL;\n"
          ]
        }
      ],
      "source": [
        "#DO NOT MODIFY THIS CELL. Just RUN it with Shift + Enter\n",
        "#Create the dsn connection string\n",
        "dsn = (\n",
        "    \"DRIVER={0};\"\n",
        "    \"DATABASE={1};\"\n",
        "    \"HOSTNAME={2};\"\n",
        "    \"PORT={3};\"\n",
        "    \"PROTOCOL={4};\"\n",
        "    \"UID={5};\"\n",
        "    \"PWD={6};\"\n",
        "    \"SECURITY={7};\").format(dsn_driver, dsn_database, dsn_hostname, dsn_port, dsn_protocol, dsn_uid, dsn_pwd,dsn_security)\n",
        "\n",
        "#print the connection string to check correct values are specified\n",
        "print(dsn)"
      ]
    },
    {
      "cell_type": "markdown",
      "metadata": {
        "id": "T0WQAKMYupqy"
      },
      "source": [
        "Now establish the connection to the database\n"
      ]
    },
    {
      "cell_type": "code",
      "execution_count": 11,
      "metadata": {
        "colab": {
          "base_uri": "https://localhost:8080/"
        },
        "id": "rmNvPu7Iupqz",
        "outputId": "89045f63-25f7-49ba-e216-97263f38c3bc"
      },
      "outputs": [
        {
          "output_type": "stream",
          "name": "stdout",
          "text": [
            "Connected to database:  BLUDB as user:  frc90031 on host:  824dfd4d-99de-440d-9991-629c01b3832d.bs2io90l08kqb1od8lcg.databases.appdomain.cloud\n"
          ]
        }
      ],
      "source": [
        "#DO NOT MODIFY THIS CELL. Just RUN it with Shift + Enter\n",
        "#Create database connection\n",
        "\n",
        "try:\n",
        "    conn = ibm_db.connect(dsn, \"\", \"\")\n",
        "    print (\"Connected to database: \", dsn_database, \"as user: \", dsn_uid, \"on host: \", dsn_hostname)\n",
        "\n",
        "except:\n",
        "    print (\"Unable to connect: \", ibm_db.conn_errormsg() )\n"
      ]
    },
    {
      "cell_type": "markdown",
      "metadata": {
        "id": "kICyA_bGupq0"
      },
      "source": [
        "Congratulations if you were able to connect successfuly. Otherwise check the error and try again.\n"
      ]
    },
    {
      "cell_type": "code",
      "execution_count": 12,
      "metadata": {
        "colab": {
          "base_uri": "https://localhost:8080/"
        },
        "id": "BVnScVHiupq0",
        "outputId": "1d66942c-3c9f-4b98-c728-23c31a82e94c"
      },
      "outputs": [
        {
          "output_type": "stream",
          "name": "stdout",
          "text": [
            "DBMS_NAME:  DB2/LINUXX8664\n",
            "DBMS_VER:   11.05.0700\n",
            "DB_NAME:    BLUDB\n"
          ]
        }
      ],
      "source": [
        "#Retrieve Metadata for the Database Server\n",
        "server = ibm_db.server_info(conn)\n",
        "\n",
        "print (\"DBMS_NAME: \", server.DBMS_NAME)\n",
        "print (\"DBMS_VER:  \", server.DBMS_VER)\n",
        "print (\"DB_NAME:   \", server.DB_NAME)"
      ]
    },
    {
      "cell_type": "code",
      "execution_count": 13,
      "metadata": {
        "colab": {
          "base_uri": "https://localhost:8080/"
        },
        "id": "iZUg-OReupq1",
        "outputId": "8f722a57-cd32-41e6-ea70-a13429f6bb30"
      },
      "outputs": [
        {
          "output_type": "stream",
          "name": "stdout",
          "text": [
            "DRIVER_NAME:           libdb2.a\n",
            "DRIVER_VER:            11.05.0600\n",
            "DATA_SOURCE_NAME:      BLUDB\n",
            "DRIVER_ODBC_VER:       03.51\n",
            "ODBC_VER:              03.01.0000\n",
            "ODBC_SQL_CONFORMANCE:  EXTENDED\n",
            "APPL_CODEPAGE:         1208\n",
            "CONN_CODEPAGE:         1208\n"
          ]
        }
      ],
      "source": [
        "#Retrieve Metadata for the Database Client / Driver\n",
        "client = ibm_db.client_info(conn)\n",
        "\n",
        "print (\"DRIVER_NAME:          \", client.DRIVER_NAME) \n",
        "print (\"DRIVER_VER:           \", client.DRIVER_VER)\n",
        "print (\"DATA_SOURCE_NAME:     \", client.DATA_SOURCE_NAME)\n",
        "print (\"DRIVER_ODBC_VER:      \", client.DRIVER_ODBC_VER)\n",
        "print (\"ODBC_VER:             \", client.ODBC_VER)\n",
        "print (\"ODBC_SQL_CONFORMANCE: \", client.ODBC_SQL_CONFORMANCE)\n",
        "print (\"APPL_CODEPAGE:        \", client.APPL_CODEPAGE)\n",
        "print (\"CONN_CODEPAGE:        \", client.CONN_CODEPAGE)"
      ]
    },
    {
      "cell_type": "markdown",
      "metadata": {
        "id": "PaDYosIQupq2"
      },
      "source": [
        "## Close the Connection\n",
        "\n",
        "We free all resources by closing the connection. Remember that it is always important to close connections so that we can avoid unused connections taking up resources.\n"
      ]
    },
    {
      "cell_type": "code",
      "execution_count": 14,
      "metadata": {
        "colab": {
          "base_uri": "https://localhost:8080/"
        },
        "id": "0JRpAbuoupq2",
        "outputId": "3bff7714-c931-4616-a879-e76446995c86"
      },
      "outputs": [
        {
          "output_type": "execute_result",
          "data": {
            "text/plain": [
              "True"
            ]
          },
          "metadata": {},
          "execution_count": 14
        }
      ],
      "source": [
        "ibm_db.close(conn)"
      ]
    },
    {
      "cell_type": "markdown",
      "metadata": {
        "id": "TSf1rPYNupq3"
      },
      "source": [
        "## Summary\n",
        "\n",
        "In this tutorial you established a connection to a DB2 database on Cloud database from a Python notebook using ibm_db API.\n"
      ]
    },
    {
      "cell_type": "markdown",
      "metadata": {
        "id": "fXC-tYqeupq3"
      },
      "source": [
        "## Author\n",
        "\n",
        "<a href=\"https://www.linkedin.com/in/ravahuja?utm_medium=Exinfluencer&utm_source=Exinfluencer&utm_content=000026UJ&utm_term=10006555&utm_id=NA-SkillsNetwork-Channel-SkillsNetworkCoursesIBMDeveloperSkillsNetworkDB0201ENSkillsNetwork20127838-2021-01-01\">Rav Ahuja</a>\n",
        "\n",
        "## Change Log\n",
        "\n",
        "| Date (YYYY-MM-DD) | Version | Changed By | Change Description                 |\n",
        "| ----------------- | ------- | ---------- | ---------------------------------- |\n",
        "| 2021-11-17        | 2.2     | Lakshmi    | Updated library                    |\n",
        "| 2021-07-09        | 2.1     | Malika     | Updated the connection string      |\n",
        "| 2020-08-28        | 2.0     | Lavanya    | Moved lab to course repo in GitLab |\n",
        "\n",
        "<hr>\n",
        "\n",
        "## <h3 align=\"center\"> © IBM Corporation 2020. All rights reserved. <h3/>\n"
      ]
    }
  ],
  "metadata": {
    "kernelspec": {
      "display_name": "Python 3 (ipykernel)",
      "language": "python",
      "name": "python3"
    },
    "language_info": {
      "codemirror_mode": {
        "name": "ipython",
        "version": 3
      },
      "file_extension": ".py",
      "mimetype": "text/x-python",
      "name": "python",
      "nbconvert_exporter": "python",
      "pygments_lexer": "ipython3",
      "version": "3.9.7"
    },
    "colab": {
      "name": "DB0201EN-Week3-1-1-Connecting.ipynb",
      "provenance": []
    }
  },
  "nbformat": 4,
  "nbformat_minor": 0
}