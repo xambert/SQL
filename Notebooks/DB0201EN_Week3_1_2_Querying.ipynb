{
  "cells": [
    {
      "cell_type": "markdown",
      "metadata": {
        "id": "EKBRzdSRx05U"
      },
      "source": [
        "<center>\n",
        "    <img src=\"https://s3-api.us-geo.objectstorage.softlayer.net/cf-courses-data/CognitiveClass/Logos/organization_logo/organization_logo.png\" width=\"300\" alt=\"cognitiveclass.ai logo\"  />\n",
        "</center>\n",
        "\n",
        "# Access DB2 on Cloud using Python\n",
        "\n",
        "Estimated time needed: **15** minutes\n",
        "\n",
        "## Objectives\n",
        "\n",
        "After completing this lab you will be able to:\n",
        "\n",
        "*   Create a table\n",
        "*   Insert data into the table\n",
        "*   Query data from the table\n",
        "*   Retrieve the result set into a pandas dataframe\n",
        "*   Close the database connection\n"
      ]
    },
    {
      "cell_type": "markdown",
      "metadata": {
        "id": "xzDg8uNax05d"
      },
      "source": [
        "**Notice:** Please follow the instructions given in the first Lab of this course to Create a database service instance of Db2 on Cloud.\n",
        "\n",
        "## Task 1: Import the `ibm_db` Python library\n",
        "\n",
        "The `ibm_db` [API ](https://pypi.python.org/pypi/ibm_db/?utm_medium=Exinfluencer&utm_source=Exinfluencer&utm_content=000026UJ&utm_term=10006555&utm_id=NA-SkillsNetwork-Channel-SkillsNetworkCoursesIBMDeveloperSkillsNetworkDB0201ENSkillsNetwork20127838-2021-01-01) provides a variety of useful Python functions for accessing and manipulating data in an IBM® data server database, including functions for connecting to a database, preparing and issuing SQL statements, fetching rows from result sets, calling stored procedures, committing and rolling back transactions, handling errors, and retrieving metadata.\n",
        "\n",
        "We import the ibm_db library into our Python Application\n",
        "\n",
        "The following required modules are pre-installed in the Skills Network Labs environment. However if you run this notebook commands in a different Jupyter environment (e.g. Watson Studio or Ananconda) you may need to install these libraries by removing the `#` sign before `!pip` in the code cell below.\n"
      ]
    },
    {
      "cell_type": "code",
      "execution_count": 1,
      "metadata": {
        "colab": {
          "base_uri": "https://localhost:8080/"
        },
        "id": "UsU3ApDfx05f",
        "outputId": "00153a33-89fd-44ad-f6d3-fd807e71c1a3"
      },
      "outputs": [
        {
          "output_type": "stream",
          "name": "stdout",
          "text": [
            "Collecting ibm_db==3.1.0\n",
            "  Downloading ibm_db-3.1.0.tar.gz (797 kB)\n",
            "\u001b[?25l\r\u001b[K     |▍                               | 10 kB 27.2 MB/s eta 0:00:01\r\u001b[K     |▉                               | 20 kB 33.3 MB/s eta 0:00:01\r\u001b[K     |█▎                              | 30 kB 36.2 MB/s eta 0:00:01\r\u001b[K     |█▋                              | 40 kB 36.9 MB/s eta 0:00:01\r\u001b[K     |██                              | 51 kB 23.0 MB/s eta 0:00:01\r\u001b[K     |██▌                             | 61 kB 25.2 MB/s eta 0:00:01\r\u001b[K     |██▉                             | 71 kB 26.9 MB/s eta 0:00:01\r\u001b[K     |███▎                            | 81 kB 28.2 MB/s eta 0:00:01\r\u001b[K     |███▊                            | 92 kB 30.6 MB/s eta 0:00:01\r\u001b[K     |████                            | 102 kB 31.1 MB/s eta 0:00:01\r\u001b[K     |████▌                           | 112 kB 31.1 MB/s eta 0:00:01\r\u001b[K     |█████                           | 122 kB 31.1 MB/s eta 0:00:01\r\u001b[K     |█████▍                          | 133 kB 31.1 MB/s eta 0:00:01\r\u001b[K     |█████▊                          | 143 kB 31.1 MB/s eta 0:00:01\r\u001b[K     |██████▏                         | 153 kB 31.1 MB/s eta 0:00:01\r\u001b[K     |██████▋                         | 163 kB 31.1 MB/s eta 0:00:01\r\u001b[K     |███████                         | 174 kB 31.1 MB/s eta 0:00:01\r\u001b[K     |███████▍                        | 184 kB 31.1 MB/s eta 0:00:01\r\u001b[K     |███████▉                        | 194 kB 31.1 MB/s eta 0:00:01\r\u001b[K     |████████▏                       | 204 kB 31.1 MB/s eta 0:00:01\r\u001b[K     |████████▋                       | 215 kB 31.1 MB/s eta 0:00:01\r\u001b[K     |█████████                       | 225 kB 31.1 MB/s eta 0:00:01\r\u001b[K     |█████████▌                      | 235 kB 31.1 MB/s eta 0:00:01\r\u001b[K     |█████████▉                      | 245 kB 31.1 MB/s eta 0:00:01\r\u001b[K     |██████████▎                     | 256 kB 31.1 MB/s eta 0:00:01\r\u001b[K     |██████████▊                     | 266 kB 31.1 MB/s eta 0:00:01\r\u001b[K     |███████████                     | 276 kB 31.1 MB/s eta 0:00:01\r\u001b[K     |███████████▌                    | 286 kB 31.1 MB/s eta 0:00:01\r\u001b[K     |████████████                    | 296 kB 31.1 MB/s eta 0:00:01\r\u001b[K     |████████████▎                   | 307 kB 31.1 MB/s eta 0:00:01\r\u001b[K     |████████████▊                   | 317 kB 31.1 MB/s eta 0:00:01\r\u001b[K     |█████████████▏                  | 327 kB 31.1 MB/s eta 0:00:01\r\u001b[K     |█████████████▋                  | 337 kB 31.1 MB/s eta 0:00:01\r\u001b[K     |██████████████                  | 348 kB 31.1 MB/s eta 0:00:01\r\u001b[K     |██████████████▍                 | 358 kB 31.1 MB/s eta 0:00:01\r\u001b[K     |██████████████▉                 | 368 kB 31.1 MB/s eta 0:00:01\r\u001b[K     |███████████████▏                | 378 kB 31.1 MB/s eta 0:00:01\r\u001b[K     |███████████████▋                | 389 kB 31.1 MB/s eta 0:00:01\r\u001b[K     |████████████████                | 399 kB 31.1 MB/s eta 0:00:01\r\u001b[K     |████████████████▍               | 409 kB 31.1 MB/s eta 0:00:01\r\u001b[K     |████████████████▉               | 419 kB 31.1 MB/s eta 0:00:01\r\u001b[K     |█████████████████▎              | 430 kB 31.1 MB/s eta 0:00:01\r\u001b[K     |█████████████████▊              | 440 kB 31.1 MB/s eta 0:00:01\r\u001b[K     |██████████████████              | 450 kB 31.1 MB/s eta 0:00:01\r\u001b[K     |██████████████████▌             | 460 kB 31.1 MB/s eta 0:00:01\r\u001b[K     |███████████████████             | 471 kB 31.1 MB/s eta 0:00:01\r\u001b[K     |███████████████████▎            | 481 kB 31.1 MB/s eta 0:00:01\r\u001b[K     |███████████████████▊            | 491 kB 31.1 MB/s eta 0:00:01\r\u001b[K     |████████████████████▏           | 501 kB 31.1 MB/s eta 0:00:01\r\u001b[K     |████████████████████▌           | 512 kB 31.1 MB/s eta 0:00:01\r\u001b[K     |█████████████████████           | 522 kB 31.1 MB/s eta 0:00:01\r\u001b[K     |█████████████████████▍          | 532 kB 31.1 MB/s eta 0:00:01\r\u001b[K     |█████████████████████▉          | 542 kB 31.1 MB/s eta 0:00:01\r\u001b[K     |██████████████████████▏         | 552 kB 31.1 MB/s eta 0:00:01\r\u001b[K     |██████████████████████▋         | 563 kB 31.1 MB/s eta 0:00:01\r\u001b[K     |███████████████████████         | 573 kB 31.1 MB/s eta 0:00:01\r\u001b[K     |███████████████████████▍        | 583 kB 31.1 MB/s eta 0:00:01\r\u001b[K     |███████████████████████▉        | 593 kB 31.1 MB/s eta 0:00:01\r\u001b[K     |████████████████████████▎       | 604 kB 31.1 MB/s eta 0:00:01\r\u001b[K     |████████████████████████▋       | 614 kB 31.1 MB/s eta 0:00:01\r\u001b[K     |█████████████████████████       | 624 kB 31.1 MB/s eta 0:00:01\r\u001b[K     |█████████████████████████▌      | 634 kB 31.1 MB/s eta 0:00:01\r\u001b[K     |██████████████████████████      | 645 kB 31.1 MB/s eta 0:00:01\r\u001b[K     |██████████████████████████▎     | 655 kB 31.1 MB/s eta 0:00:01\r\u001b[K     |██████████████████████████▊     | 665 kB 31.1 MB/s eta 0:00:01\r\u001b[K     |███████████████████████████▏    | 675 kB 31.1 MB/s eta 0:00:01\r\u001b[K     |███████████████████████████▌    | 686 kB 31.1 MB/s eta 0:00:01\r\u001b[K     |████████████████████████████    | 696 kB 31.1 MB/s eta 0:00:01\r\u001b[K     |████████████████████████████▍   | 706 kB 31.1 MB/s eta 0:00:01\r\u001b[K     |████████████████████████████▊   | 716 kB 31.1 MB/s eta 0:00:01\r\u001b[K     |█████████████████████████████▏  | 727 kB 31.1 MB/s eta 0:00:01\r\u001b[K     |█████████████████████████████▋  | 737 kB 31.1 MB/s eta 0:00:01\r\u001b[K     |██████████████████████████████  | 747 kB 31.1 MB/s eta 0:00:01\r\u001b[K     |██████████████████████████████▍ | 757 kB 31.1 MB/s eta 0:00:01\r\u001b[K     |██████████████████████████████▉ | 768 kB 31.1 MB/s eta 0:00:01\r\u001b[K     |███████████████████████████████▎| 778 kB 31.1 MB/s eta 0:00:01\r\u001b[K     |███████████████████████████████▋| 788 kB 31.1 MB/s eta 0:00:01\r\u001b[K     |████████████████████████████████| 797 kB 31.1 MB/s \n",
            "\u001b[?25h  Installing build dependencies ... \u001b[?25l\u001b[?25hdone\n",
            "  Getting requirements to build wheel ... \u001b[?25l\u001b[?25hdone\n",
            "  Installing backend dependencies ... \u001b[?25l\u001b[?25hdone\n",
            "    Preparing wheel metadata ... \u001b[?25l\u001b[?25hdone\n",
            "Collecting ibm_db_sa==0.3.3\n",
            "  Downloading ibm_db_sa-0.3.3.tar.gz (24 kB)\n",
            "Collecting sqlalchemy>=0.7.3\n",
            "  Downloading SQLAlchemy-1.4.34-cp37-cp37m-manylinux_2_5_x86_64.manylinux1_x86_64.manylinux_2_17_x86_64.manylinux2014_x86_64.whl (1.6 MB)\n",
            "\u001b[K     |████████████████████████████████| 1.6 MB 48.5 MB/s \n",
            "\u001b[?25hCollecting importlib-metadata\n",
            "  Downloading importlib_metadata-4.11.3-py3-none-any.whl (18 kB)\n",
            "Collecting greenlet!=0.4.17\n",
            "  Downloading greenlet-1.1.2-cp37-cp37m-manylinux_2_17_x86_64.manylinux2014_x86_64.whl (150 kB)\n",
            "\u001b[K     |████████████████████████████████| 150 kB 57.8 MB/s \n",
            "\u001b[?25hCollecting typing-extensions>=3.6.4\n",
            "  Downloading typing_extensions-4.1.1-py3-none-any.whl (26 kB)\n",
            "Collecting zipp>=0.5\n",
            "  Downloading zipp-3.7.0-py3-none-any.whl (5.3 kB)\n",
            "Building wheels for collected packages: ibm-db, ibm-db-sa\n",
            "  Building wheel for ibm-db (PEP 517) ... \u001b[?25l\u001b[?25hdone\n",
            "  Created wheel for ibm-db: filename=ibm_db-3.1.0-cp37-cp37m-linux_x86_64.whl size=41343152 sha256=fc76a8c1c4446033f90fea22dfa43f9a9bd9aaaf7a235865a78142ebd9f180ca\n",
            "  Stored in directory: /root/.cache/pip/wheels/47/0a/77/b8b3be9a85b29763931206a34e13bcc1764e3ef13548d09797\n",
            "  Building wheel for ibm-db-sa (setup.py) ... \u001b[?25l\u001b[?25hdone\n",
            "  Created wheel for ibm-db-sa: filename=ibm_db_sa-0.3.3-py3-none-any.whl size=27426 sha256=1ef0b52b29890eddd25eeba177d1e63f9094737a0b3f0742f87dd0f77b9a00d0\n",
            "  Stored in directory: /root/.cache/pip/wheels/36/6c/6c/1b1edc5bbbc3956bcc174635c0608f814d4e5da891b14fb6c6\n",
            "Successfully built ibm-db ibm-db-sa\n",
            "Installing collected packages: zipp, typing-extensions, importlib-metadata, greenlet, sqlalchemy, ibm-db-sa, ibm-db\n",
            "  Attempting uninstall: zipp\n",
            "    Found existing installation: zipp 3.7.0\n",
            "    Uninstalling zipp-3.7.0:\n",
            "      Successfully uninstalled zipp-3.7.0\n",
            "  Attempting uninstall: typing-extensions\n",
            "    Found existing installation: typing-extensions 3.10.0.2\n",
            "    Uninstalling typing-extensions-3.10.0.2:\n",
            "      Successfully uninstalled typing-extensions-3.10.0.2\n",
            "  Attempting uninstall: importlib-metadata\n",
            "    Found existing installation: importlib-metadata 4.11.3\n",
            "    Uninstalling importlib-metadata-4.11.3:\n",
            "      Successfully uninstalled importlib-metadata-4.11.3\n",
            "  Attempting uninstall: greenlet\n",
            "    Found existing installation: greenlet 1.1.2\n",
            "    Uninstalling greenlet-1.1.2:\n",
            "      Successfully uninstalled greenlet-1.1.2\n",
            "  Attempting uninstall: sqlalchemy\n",
            "    Found existing installation: SQLAlchemy 1.4.32\n",
            "    Uninstalling SQLAlchemy-1.4.32:\n",
            "      Successfully uninstalled SQLAlchemy-1.4.32\n",
            "\u001b[31mERROR: pip's dependency resolver does not currently take into account all the packages that are installed. This behaviour is the source of the following dependency conflicts.\n",
            "tensorflow 2.8.0 requires tf-estimator-nightly==2.8.0.dev2021122109, which is not installed.\n",
            "arviz 0.11.4 requires typing-extensions<4,>=3.7.4.3, but you have typing-extensions 4.1.1 which is incompatible.\u001b[0m\n",
            "Successfully installed greenlet-1.1.2 ibm-db-3.1.0 ibm-db-sa-0.3.3 importlib-metadata-4.11.3 sqlalchemy-1.4.34 typing-extensions-4.1.1 zipp-3.7.0\n",
            "Found existing installation: SQLAlchemy 1.4.34\n",
            "Uninstalling SQLAlchemy-1.4.34:\n",
            "  Successfully uninstalled SQLAlchemy-1.4.34\n",
            "Collecting sqlalchemy==1.3.24\n",
            "  Downloading SQLAlchemy-1.3.24-cp37-cp37m-manylinux2010_x86_64.whl (1.3 MB)\n",
            "\u001b[K     |████████████████████████████████| 1.3 MB 26.0 MB/s \n",
            "\u001b[?25hInstalling collected packages: sqlalchemy\n",
            "Successfully installed sqlalchemy-1.3.24\n",
            "Requirement already satisfied: ipython-sql in /usr/local/lib/python3.7/dist-packages (0.3.9)\n",
            "Requirement already satisfied: prettytable in /usr/local/lib/python3.7/dist-packages (from ipython-sql) (3.2.0)\n",
            "Requirement already satisfied: six in /usr/local/lib/python3.7/dist-packages (from ipython-sql) (1.15.0)\n",
            "Requirement already satisfied: ipython>=1.0 in /usr/local/lib/python3.7/dist-packages (from ipython-sql) (5.5.0)\n",
            "Requirement already satisfied: sqlparse in /usr/local/lib/python3.7/dist-packages (from ipython-sql) (0.4.2)\n",
            "Requirement already satisfied: sqlalchemy>=0.6.7 in /usr/local/lib/python3.7/dist-packages (from ipython-sql) (1.3.24)\n",
            "Requirement already satisfied: ipython-genutils>=0.1.0 in /usr/local/lib/python3.7/dist-packages (from ipython-sql) (0.2.0)\n",
            "Requirement already satisfied: pickleshare in /usr/local/lib/python3.7/dist-packages (from ipython>=1.0->ipython-sql) (0.7.5)\n",
            "Requirement already satisfied: decorator in /usr/local/lib/python3.7/dist-packages (from ipython>=1.0->ipython-sql) (4.4.2)\n",
            "Requirement already satisfied: prompt-toolkit<2.0.0,>=1.0.4 in /usr/local/lib/python3.7/dist-packages (from ipython>=1.0->ipython-sql) (1.0.18)\n",
            "Requirement already satisfied: pexpect in /usr/local/lib/python3.7/dist-packages (from ipython>=1.0->ipython-sql) (4.8.0)\n",
            "Requirement already satisfied: setuptools>=18.5 in /usr/local/lib/python3.7/dist-packages (from ipython>=1.0->ipython-sql) (57.4.0)\n",
            "Requirement already satisfied: traitlets>=4.2 in /usr/local/lib/python3.7/dist-packages (from ipython>=1.0->ipython-sql) (5.1.1)\n",
            "Requirement already satisfied: simplegeneric>0.8 in /usr/local/lib/python3.7/dist-packages (from ipython>=1.0->ipython-sql) (0.8.1)\n",
            "Requirement already satisfied: pygments in /usr/local/lib/python3.7/dist-packages (from ipython>=1.0->ipython-sql) (2.6.1)\n",
            "Requirement already satisfied: wcwidth in /usr/local/lib/python3.7/dist-packages (from prompt-toolkit<2.0.0,>=1.0.4->ipython>=1.0->ipython-sql) (0.2.5)\n",
            "Requirement already satisfied: ptyprocess>=0.5 in /usr/local/lib/python3.7/dist-packages (from pexpect->ipython>=1.0->ipython-sql) (0.7.0)\n",
            "Requirement already satisfied: importlib-metadata in /usr/local/lib/python3.7/dist-packages (from prettytable->ipython-sql) (4.11.3)\n",
            "Requirement already satisfied: typing-extensions>=3.6.4 in /usr/local/lib/python3.7/dist-packages (from importlib-metadata->prettytable->ipython-sql) (4.1.1)\n",
            "Requirement already satisfied: zipp>=0.5 in /usr/local/lib/python3.7/dist-packages (from importlib-metadata->prettytable->ipython-sql) (3.7.0)\n"
          ]
        }
      ],
      "source": [
        "# These libraries are pre-installed in SN Labs. If running in another environment please uncomment lines below to install them:\n",
        "!pip install --force-reinstall ibm_db==3.1.0 ibm_db_sa==0.3.3\n",
        "# Ensure we don't load_ext with sqlalchemy>=1.4 (incompadible)\n",
        "!pip uninstall sqlalchemy==1.4 -y && pip install sqlalchemy==1.3.24\n",
        "!pip install ipython-sql"
      ]
    },
    {
      "cell_type": "code",
      "execution_count": 4,
      "metadata": {
        "tags": [],
        "id": "FaWZoJd0x05i"
      },
      "outputs": [],
      "source": [
        "import ibm_db"
      ]
    },
    {
      "cell_type": "markdown",
      "metadata": {
        "id": "702BMq8Dx05i"
      },
      "source": [
        "When the command above completes, the `ibm_db` library is loaded in your notebook.\n",
        "\n",
        "## Task 2: Identify the database connection credentials\n",
        "\n",
        "Connecting to dashDB or DB2 database requires the following information:\n",
        "\n",
        "*   Driver Name\n",
        "*   Database name\n",
        "*   Host DNS name or IP address\n",
        "*   Host port\n",
        "*   Connection protocol\n",
        "*   User ID\n",
        "*   User Password\n",
        "\n",
        "**Notice:** To obtain credentials please refer to the instructions given in the first Lab of this course\n",
        "\n",
        "Now enter your database credentials below\n",
        "\n",
        "Replace the placeholder values in angular brackets <> below with your actual database credentials\n",
        "\n",
        "e.g. replace \"database\" with \"BLUDB\"\n"
      ]
    },
    {
      "cell_type": "code",
      "execution_count": 13,
      "metadata": {
        "id": "HjvzQafzx05k"
      },
      "outputs": [],
      "source": [
        "#Replace the placeholder values with the actuals for your Db2 Service Credentials\n",
        "dsn_driver = \"{IBM DB2 ODBC DRIVER}\"\n",
        "dsn_database = \"BLUDB\"            # e.g. \"BLUDB\"\n",
        "dsn_hostname = \"824dfd4d-99de-440d-9991-629c01b3832d.bs2io90l08kqb1od8lcg.databases.appdomain.cloud\"         # e.g.: \"dashdb-txn-sbox-yp-dal09-04.services.dal.bluemix.net\"\n",
        "dsn_port = \"30119\"                    # e.g. \"50000\" \n",
        "dsn_protocol = \"TCPIP\"            # i.e. \"TCPIP\"\n",
        "dsn_uid = \"frc90031\"                 # e.g. \"abc12345\"\n",
        "dsn_pwd = \"Xw8HwHid9kijmLyu\"                # e.g. \"7dBZ3wWt9XN6$o0J\"\n",
        "dsn_security = \"SSL\"              #i.e. \"SSL\""
      ]
    },
    {
      "cell_type": "markdown",
      "metadata": {
        "id": "KPhjsIo8x05l"
      },
      "source": [
        "## Task 3: Create the database connection\n",
        "\n",
        "Ibm_db API uses the IBM Data Server Driver for ODBC and CLI APIs to connect to IBM DB2 and Informix.\n",
        "\n",
        "Create the database connection\n"
      ]
    },
    {
      "cell_type": "code",
      "execution_count": 14,
      "metadata": {
        "colab": {
          "base_uri": "https://localhost:8080/"
        },
        "id": "IPDZfbo5x05m",
        "outputId": "0b766ab4-9f1f-404c-fe7b-c19a59f4a891"
      },
      "outputs": [
        {
          "output_type": "stream",
          "name": "stdout",
          "text": [
            "Connected to database:  BLUDB as user:  frc90031 on host:  824dfd4d-99de-440d-9991-629c01b3832d.bs2io90l08kqb1od8lcg.databases.appdomain.cloud\n"
          ]
        }
      ],
      "source": [
        "#Create database connection\n",
        "#DO NOT MODIFY THIS CELL. Just RUN it with Shift + Enter\n",
        "dsn = (\n",
        "    \"DRIVER={0};\"\n",
        "    \"DATABASE={1};\"\n",
        "    \"HOSTNAME={2};\"\n",
        "    \"PORT={3};\"\n",
        "    \"PROTOCOL={4};\"\n",
        "    \"UID={5};\"\n",
        "    \"PWD={6};\"\n",
        "    \"SECURITY={7};\").format(dsn_driver, dsn_database, dsn_hostname, dsn_port, dsn_protocol, dsn_uid, dsn_pwd,dsn_security)\n",
        "\n",
        "try:\n",
        "    conn = ibm_db.connect(dsn, \"\", \"\")\n",
        "    print (\"Connected to database: \", dsn_database, \"as user: \", dsn_uid, \"on host: \", dsn_hostname)\n",
        "\n",
        "except:\n",
        "    print (\"Unable to connect: \", ibm_db.conn_errormsg() )\n"
      ]
    },
    {
      "cell_type": "markdown",
      "metadata": {
        "id": "x95y6GGgx05o"
      },
      "source": [
        "## Task 4: Create a table in the database\n",
        "\n",
        "In this step we will create a table in the database with following details:\n",
        "\n",
        "<img src = \"https://ibm.box.com/shared/static/ztd2cn4xkdoj5erlk4hhng39kbp63s1h.jpg\" align=\"center\">\n"
      ]
    },
    {
      "cell_type": "code",
      "execution_count": 15,
      "metadata": {
        "colab": {
          "base_uri": "https://localhost:8080/",
          "height": 217
        },
        "id": "0Ap5ttqKx05p",
        "outputId": "e16a77e7-fceb-4b8b-90cd-9124a27d292e"
      },
      "outputs": [
        {
          "output_type": "error",
          "ename": "Exception",
          "evalue": "ignored",
          "traceback": [
            "\u001b[0;31m---------------------------------------------------------------------------\u001b[0m",
            "\u001b[0;31mException\u001b[0m                                 Traceback (most recent call last)",
            "\u001b[0;32m<ipython-input-15-83413676a2ca>\u001b[0m in \u001b[0;36m<module>\u001b[0;34m()\u001b[0m\n\u001b[1;32m      3\u001b[0m \u001b[0;34m\u001b[0m\u001b[0m\n\u001b[1;32m      4\u001b[0m \u001b[0;31m#Now execute the drop statment\u001b[0m\u001b[0;34m\u001b[0m\u001b[0;34m\u001b[0m\u001b[0;34m\u001b[0m\u001b[0m\n\u001b[0;32m----> 5\u001b[0;31m \u001b[0mdropStmt\u001b[0m \u001b[0;34m=\u001b[0m \u001b[0mibm_db\u001b[0m\u001b[0;34m.\u001b[0m\u001b[0mexec_immediate\u001b[0m\u001b[0;34m(\u001b[0m\u001b[0mconn\u001b[0m\u001b[0;34m,\u001b[0m \u001b[0mdropQuery\u001b[0m\u001b[0;34m)\u001b[0m\u001b[0;34m\u001b[0m\u001b[0;34m\u001b[0m\u001b[0m\n\u001b[0m",
            "\u001b[0;31mException\u001b[0m: [IBM][CLI Driver][DB2/LINUXX8664] SQL0204N  \"FRC90031.INSTRUCTOR\" is an undefined name.  SQLSTATE=42704 SQLCODE=-204"
          ]
        }
      ],
      "source": [
        "#Lets first drop the table INSTRUCTOR in case it exists from a previous attempt\n",
        "dropQuery = \"drop table INSTRUCTOR\"\n",
        "\n",
        "#Now execute the drop statment\n",
        "dropStmt = ibm_db.exec_immediate(conn, dropQuery)"
      ]
    },
    {
      "cell_type": "markdown",
      "metadata": {
        "id": "Jlwk3pCpx05q"
      },
      "source": [
        "## Dont worry if you get this error:\n",
        "\n",
        "If you see an exception/error similar to the following, indicating that INSTRUCTOR is an undefined name, that's okay. It just implies that the INSTRUCTOR table does not exist in the table - which would be the case if you had not created it previously.\n",
        "\n",
        "Exception: \\[IBM]\\[CLI Driver]\\[DB2/LINUXX8664] SQL0204N  \"ABC12345.INSTRUCTOR\" is an undefined name.  SQLSTATE=42704 SQLCODE=-204\n"
      ]
    },
    {
      "cell_type": "code",
      "execution_count": 19,
      "metadata": {
        "id": "WPkZJI72x05r"
      },
      "outputs": [],
      "source": [
        "createQuery = \"create table INSTRUCTOR(ID INTEGER PRIMARY KEY NOT NULL, FNAME VARCHAR(20), LNAME VARCHAR(20), CITY VARCHAR(20), CCODE CHAR(2))\"\n",
        "\n",
        "createStmt = ibm_db.exec_immediate(conn,createQuery)"
      ]
    },
    {
      "cell_type": "markdown",
      "metadata": {
        "id": "oCLVkwjEx05r"
      },
      "source": [
        "**bold text**<details><summary>Click here for the solution</summary>\n",
        "\n",
        "```python\n",
        "createQuery = \"create table INSTRUCTOR(ID INTEGER PRIMARY KEY NOT NULL, FNAME VARCHAR(20), LNAME VARCHAR(20), CITY VARCHAR(20), CCODE CHAR(2))\"\n",
        "\n",
        "createStmt = ibm_db.exec_immediate(conn,createQuery)\n",
        "```\n",
        "\n",
        "</details>\n"
      ]
    },
    {
      "cell_type": "markdown",
      "metadata": {
        "id": "_uQZr3GBx05s"
      },
      "source": [
        "## Task 5: Insert data into the table\n",
        "\n",
        "In this step we will insert some rows of data into the table.\n",
        "\n",
        "The INSTRUCTOR table we created in the previous step contains 3 rows of data:\n",
        "\n",
        "<img src=\"https://ibm.box.com/shared/static/j5yjassxefrjknivfpekj7698dqe4d8i.jpg\" align=\"center\">\n",
        "\n",
        "We will start by inserting just the first row of data, i.e. for instructor Rav Ahuja\n"
      ]
    },
    {
      "cell_type": "code",
      "execution_count": 20,
      "metadata": {
        "id": "kFRK0Hqlx05s"
      },
      "outputs": [],
      "source": [
        "insertQuery = \"insert into INSTRUCTOR values (1, 'Rav', 'Ahuja', 'TORONTO', 'CA')\"\n",
        "\n",
        "insertStmt = ibm_db.exec_immediate(conn, insertQuery)"
      ]
    },
    {
      "cell_type": "markdown",
      "metadata": {
        "id": "t2ZwtTZOx05t"
      },
      "source": [
        "**bold text**<details><summary>Click here for the solution</summary>\n",
        "\n",
        "```python\n",
        "insertQuery = \"insert into INSTRUCTOR values (1, 'Rav', 'Ahuja', 'TORONTO', 'CA')\"\n",
        "\n",
        "insertStmt = ibm_db.exec_immediate(conn, insertQuery)\n",
        "```\n",
        "\n",
        "</details>\n"
      ]
    },
    {
      "cell_type": "markdown",
      "metadata": {
        "id": "aHQqNUxgx05u"
      },
      "source": [
        "Now use a single query to insert the remaining two rows of data\n"
      ]
    },
    {
      "cell_type": "code",
      "execution_count": 21,
      "metadata": {
        "id": "MSuAdV98x05u"
      },
      "outputs": [],
      "source": [
        "insertQuery2 = \"insert into INSTRUCTOR values (2, 'Raul', 'Chong', 'Markham', 'CA'), (3, 'Hima', 'Vasudevan', 'Chicago', 'US')\"\n",
        "\n",
        "insertStmt2 = ibm_db.exec_immediate(conn, insertQuery2)"
      ]
    },
    {
      "cell_type": "markdown",
      "metadata": {
        "id": "ZV7TQr4dx05v"
      },
      "source": [
        "<details><summary>Click here for the solution</summary>\n",
        "\n",
        "```python\n",
        "insertQuery2 = \"insert into INSTRUCTOR values (2, 'Raul', 'Chong', 'Markham', 'CA'), (3, 'Hima', 'Vasudevan', 'Chicago', 'US')\"\n",
        "\n",
        "insertStmt2 = ibm_db.exec_immediate(conn, insertQuery2)\n",
        "\n",
        "```\n",
        "\n",
        "</details>\n"
      ]
    },
    {
      "cell_type": "markdown",
      "metadata": {
        "id": "FeQhYQqwx05w"
      },
      "source": [
        "## Task 6: Query data in the table\n",
        "\n",
        "In this step we will retrieve data we inserted into the INSTRUCTOR table.\n"
      ]
    },
    {
      "cell_type": "code",
      "execution_count": 22,
      "metadata": {
        "colab": {
          "base_uri": "https://localhost:8080/"
        },
        "id": "C0bZ5ZRTx05x",
        "outputId": "095a5ef2-de03-477b-f621-001d9cb808c1"
      },
      "outputs": [
        {
          "output_type": "execute_result",
          "data": {
            "text/plain": [
              "{0: 1,\n",
              " 1: 'Rav',\n",
              " 2: 'Ahuja',\n",
              " 3: 'TORONTO',\n",
              " 4: 'CA',\n",
              " 'CCODE': 'CA',\n",
              " 'CITY': 'TORONTO',\n",
              " 'FNAME': 'Rav',\n",
              " 'ID': 1,\n",
              " 'LNAME': 'Ahuja'}"
            ]
          },
          "metadata": {},
          "execution_count": 22
        }
      ],
      "source": [
        "#Construct the query that retrieves all rows from the INSTRUCTOR table\n",
        "selectQuery = \"select * from INSTRUCTOR\"\n",
        "\n",
        "#Execute the statement\n",
        "selectStmt = ibm_db.exec_immediate(conn, selectQuery)\n",
        "\n",
        "#Fetch the Dictionary (for the first row only) - replace ... with your code\n",
        "ibm_db.fetch_both(selectStmt)"
      ]
    },
    {
      "cell_type": "markdown",
      "metadata": {
        "id": "5axnotsvx05x"
      },
      "source": [
        "<details><summary>Click here for the solution</summary>\n",
        "\n",
        "```python\n",
        "#Construct the query that retrieves all rows from the INSTRUCTOR table\n",
        "selectQuery = \"select * from INSTRUCTOR\"\n",
        "\n",
        "#Execute the statement\n",
        "selectStmt = ibm_db.exec_immediate(conn, selectQuery)\n",
        "\n",
        "#Fetch the Dictionary (for the first row only)\n",
        "ibm_db.fetch_both(selectStmt)\n",
        "\n",
        "```\n",
        "\n",
        "</details>\n"
      ]
    },
    {
      "cell_type": "code",
      "execution_count": 23,
      "metadata": {
        "colab": {
          "base_uri": "https://localhost:8080/"
        },
        "id": "6JFjux_xx05y",
        "outputId": "dadb5d35-d988-464f-c38c-0b9a456db9cc"
      },
      "outputs": [
        {
          "output_type": "stream",
          "name": "stdout",
          "text": [
            " ID: 2  FNAME: Raul\n",
            " ID: 3  FNAME: Hima\n"
          ]
        }
      ],
      "source": [
        "#Fetch the rest of the rows and print the ID and FNAME for those rows\n",
        "while ibm_db.fetch_row(selectStmt) != False:\n",
        "   print (\" ID:\",  ibm_db.result(selectStmt, 0), \" FNAME:\",  ibm_db.result(selectStmt, \"FNAME\"))"
      ]
    },
    {
      "cell_type": "markdown",
      "metadata": {
        "id": "1sy7Iszhx05z"
      },
      "source": [
        "<details><summary>Click here for the solution</summary>\n",
        "\n",
        "```python\n",
        "#Fetch the rest of the rows and print the ID and FNAME for those rows\n",
        "while ibm_db.fetch_row(selectStmt) != False:\n",
        "    print (\" ID:\",  ibm_db.result(selectStmt, 0), \" FNAME:\",  ibm_db.result(selectStmt, \"FNAME\"))\n",
        "\n",
        "```\n",
        "\n",
        "</details>\n"
      ]
    },
    {
      "cell_type": "markdown",
      "metadata": {
        "id": "epIC7vo2x050"
      },
      "source": [
        "Bonus: now write and execute an update statement that changes the Rav's CITY to MOOSETOWN\n"
      ]
    },
    {
      "cell_type": "code",
      "execution_count": 26,
      "metadata": {
        "id": "iLkyTdi4x050"
      },
      "outputs": [],
      "source": [
        "#Enter your code below\n",
        "query = \"UPDATE INSTRUCTOR SET CITY='MOOSETOWN' where FNAME='RAV'\""
      ]
    },
    {
      "cell_type": "code",
      "source": [
        "updateStmt = ibm_db.exec_immediate(conn, query)"
      ],
      "metadata": {
        "id": "QtUtKIot3OzC"
      },
      "execution_count": 27,
      "outputs": []
    },
    {
      "cell_type": "markdown",
      "metadata": {
        "id": "n3AtE9PAx051"
      },
      "source": [
        "<details><summary>Click here for the solution</summary>\n",
        "\n",
        "```python\n",
        "updateQuery = \"update INSTRUCTOR set CITY='MOOSETOWN' where FNAME='Rav'\"\n",
        "updateStmt = ibm_db.exec_immediate(conn, updateQuery)\n",
        "\n",
        "```\n",
        "\n",
        "</details>\n"
      ]
    },
    {
      "cell_type": "markdown",
      "metadata": {
        "id": "DyS7-IYox051"
      },
      "source": [
        "## Task 7: Retrieve data into Pandas\n",
        "\n",
        "In this step we will retrieve the contents of the INSTRUCTOR table into a Pandas dataframe\n"
      ]
    },
    {
      "cell_type": "code",
      "execution_count": 28,
      "metadata": {
        "tags": [],
        "id": "7Sp-N15Ax052"
      },
      "outputs": [],
      "source": [
        "import pandas\n",
        "import ibm_db_dbi"
      ]
    },
    {
      "cell_type": "code",
      "execution_count": 29,
      "metadata": {
        "tags": [],
        "id": "uglzTqz2x052"
      },
      "outputs": [],
      "source": [
        "#connection for pandas\n",
        "pconn = ibm_db_dbi.Connection(conn)"
      ]
    },
    {
      "cell_type": "code",
      "execution_count": 30,
      "metadata": {
        "colab": {
          "base_uri": "https://localhost:8080/",
          "height": 35
        },
        "id": "i_iHmbwjx053",
        "outputId": "e28073c1-11a4-47bf-e8e9-8f693d7b141a"
      },
      "outputs": [
        {
          "output_type": "execute_result",
          "data": {
            "text/plain": [
              "'Ahuja'"
            ],
            "application/vnd.google.colaboratory.intrinsic+json": {
              "type": "string"
            }
          },
          "metadata": {},
          "execution_count": 30
        }
      ],
      "source": [
        "#query statement to retrieve all rows in INSTRUCTOR table\n",
        "selectQuery = \"select * from INSTRUCTOR\"\n",
        "\n",
        "#retrieve the query results into a pandas dataframe\n",
        "pdf = pandas.read_sql(selectQuery, pconn)\n",
        "\n",
        "#print just the LNAME for first row in the pandas data frame\n",
        "pdf.LNAME[0]"
      ]
    },
    {
      "cell_type": "code",
      "execution_count": 31,
      "metadata": {
        "colab": {
          "base_uri": "https://localhost:8080/",
          "height": 143
        },
        "id": "5wWk9DXox053",
        "outputId": "489fb6fe-1e72-4238-bb92-bed26f7e46d4"
      },
      "outputs": [
        {
          "output_type": "execute_result",
          "data": {
            "text/plain": [
              "   ID FNAME      LNAME     CITY CCODE\n",
              "0   1   Rav      Ahuja  TORONTO    CA\n",
              "1   2  Raul      Chong  Markham    CA\n",
              "2   3  Hima  Vasudevan  Chicago    US"
            ],
            "text/html": [
              "\n",
              "  <div id=\"df-df08e187-2334-424d-b9d2-4a4fc9055aeb\">\n",
              "    <div class=\"colab-df-container\">\n",
              "      <div>\n",
              "<style scoped>\n",
              "    .dataframe tbody tr th:only-of-type {\n",
              "        vertical-align: middle;\n",
              "    }\n",
              "\n",
              "    .dataframe tbody tr th {\n",
              "        vertical-align: top;\n",
              "    }\n",
              "\n",
              "    .dataframe thead th {\n",
              "        text-align: right;\n",
              "    }\n",
              "</style>\n",
              "<table border=\"1\" class=\"dataframe\">\n",
              "  <thead>\n",
              "    <tr style=\"text-align: right;\">\n",
              "      <th></th>\n",
              "      <th>ID</th>\n",
              "      <th>FNAME</th>\n",
              "      <th>LNAME</th>\n",
              "      <th>CITY</th>\n",
              "      <th>CCODE</th>\n",
              "    </tr>\n",
              "  </thead>\n",
              "  <tbody>\n",
              "    <tr>\n",
              "      <th>0</th>\n",
              "      <td>1</td>\n",
              "      <td>Rav</td>\n",
              "      <td>Ahuja</td>\n",
              "      <td>TORONTO</td>\n",
              "      <td>CA</td>\n",
              "    </tr>\n",
              "    <tr>\n",
              "      <th>1</th>\n",
              "      <td>2</td>\n",
              "      <td>Raul</td>\n",
              "      <td>Chong</td>\n",
              "      <td>Markham</td>\n",
              "      <td>CA</td>\n",
              "    </tr>\n",
              "    <tr>\n",
              "      <th>2</th>\n",
              "      <td>3</td>\n",
              "      <td>Hima</td>\n",
              "      <td>Vasudevan</td>\n",
              "      <td>Chicago</td>\n",
              "      <td>US</td>\n",
              "    </tr>\n",
              "  </tbody>\n",
              "</table>\n",
              "</div>\n",
              "      <button class=\"colab-df-convert\" onclick=\"convertToInteractive('df-df08e187-2334-424d-b9d2-4a4fc9055aeb')\"\n",
              "              title=\"Convert this dataframe to an interactive table.\"\n",
              "              style=\"display:none;\">\n",
              "        \n",
              "  <svg xmlns=\"http://www.w3.org/2000/svg\" height=\"24px\"viewBox=\"0 0 24 24\"\n",
              "       width=\"24px\">\n",
              "    <path d=\"M0 0h24v24H0V0z\" fill=\"none\"/>\n",
              "    <path d=\"M18.56 5.44l.94 2.06.94-2.06 2.06-.94-2.06-.94-.94-2.06-.94 2.06-2.06.94zm-11 1L8.5 8.5l.94-2.06 2.06-.94-2.06-.94L8.5 2.5l-.94 2.06-2.06.94zm10 10l.94 2.06.94-2.06 2.06-.94-2.06-.94-.94-2.06-.94 2.06-2.06.94z\"/><path d=\"M17.41 7.96l-1.37-1.37c-.4-.4-.92-.59-1.43-.59-.52 0-1.04.2-1.43.59L10.3 9.45l-7.72 7.72c-.78.78-.78 2.05 0 2.83L4 21.41c.39.39.9.59 1.41.59.51 0 1.02-.2 1.41-.59l7.78-7.78 2.81-2.81c.8-.78.8-2.07 0-2.86zM5.41 20L4 18.59l7.72-7.72 1.47 1.35L5.41 20z\"/>\n",
              "  </svg>\n",
              "      </button>\n",
              "      \n",
              "  <style>\n",
              "    .colab-df-container {\n",
              "      display:flex;\n",
              "      flex-wrap:wrap;\n",
              "      gap: 12px;\n",
              "    }\n",
              "\n",
              "    .colab-df-convert {\n",
              "      background-color: #E8F0FE;\n",
              "      border: none;\n",
              "      border-radius: 50%;\n",
              "      cursor: pointer;\n",
              "      display: none;\n",
              "      fill: #1967D2;\n",
              "      height: 32px;\n",
              "      padding: 0 0 0 0;\n",
              "      width: 32px;\n",
              "    }\n",
              "\n",
              "    .colab-df-convert:hover {\n",
              "      background-color: #E2EBFA;\n",
              "      box-shadow: 0px 1px 2px rgba(60, 64, 67, 0.3), 0px 1px 3px 1px rgba(60, 64, 67, 0.15);\n",
              "      fill: #174EA6;\n",
              "    }\n",
              "\n",
              "    [theme=dark] .colab-df-convert {\n",
              "      background-color: #3B4455;\n",
              "      fill: #D2E3FC;\n",
              "    }\n",
              "\n",
              "    [theme=dark] .colab-df-convert:hover {\n",
              "      background-color: #434B5C;\n",
              "      box-shadow: 0px 1px 3px 1px rgba(0, 0, 0, 0.15);\n",
              "      filter: drop-shadow(0px 1px 2px rgba(0, 0, 0, 0.3));\n",
              "      fill: #FFFFFF;\n",
              "    }\n",
              "  </style>\n",
              "\n",
              "      <script>\n",
              "        const buttonEl =\n",
              "          document.querySelector('#df-df08e187-2334-424d-b9d2-4a4fc9055aeb button.colab-df-convert');\n",
              "        buttonEl.style.display =\n",
              "          google.colab.kernel.accessAllowed ? 'block' : 'none';\n",
              "\n",
              "        async function convertToInteractive(key) {\n",
              "          const element = document.querySelector('#df-df08e187-2334-424d-b9d2-4a4fc9055aeb');\n",
              "          const dataTable =\n",
              "            await google.colab.kernel.invokeFunction('convertToInteractive',\n",
              "                                                     [key], {});\n",
              "          if (!dataTable) return;\n",
              "\n",
              "          const docLinkHtml = 'Like what you see? Visit the ' +\n",
              "            '<a target=\"_blank\" href=https://colab.research.google.com/notebooks/data_table.ipynb>data table notebook</a>'\n",
              "            + ' to learn more about interactive tables.';\n",
              "          element.innerHTML = '';\n",
              "          dataTable['output_type'] = 'display_data';\n",
              "          await google.colab.output.renderOutput(dataTable, element);\n",
              "          const docLink = document.createElement('div');\n",
              "          docLink.innerHTML = docLinkHtml;\n",
              "          element.appendChild(docLink);\n",
              "        }\n",
              "      </script>\n",
              "    </div>\n",
              "  </div>\n",
              "  "
            ]
          },
          "metadata": {},
          "execution_count": 31
        }
      ],
      "source": [
        "#print the entire data frame\n",
        "pdf"
      ]
    },
    {
      "cell_type": "markdown",
      "metadata": {
        "id": "gsa3JtG_x054"
      },
      "source": [
        "Once the data is in a Pandas dataframe, you can do the typical pandas operations on it.\n",
        "\n",
        "For example you can use the shape method to see how many rows and columns are in the dataframe\n"
      ]
    },
    {
      "cell_type": "code",
      "execution_count": 32,
      "metadata": {
        "colab": {
          "base_uri": "https://localhost:8080/"
        },
        "id": "GkctRoKcx054",
        "outputId": "8e6d82dc-b657-4e74-c4c5-d56af5570564"
      },
      "outputs": [
        {
          "output_type": "execute_result",
          "data": {
            "text/plain": [
              "(3, 5)"
            ]
          },
          "metadata": {},
          "execution_count": 32
        }
      ],
      "source": [
        "pdf.shape"
      ]
    },
    {
      "cell_type": "markdown",
      "metadata": {
        "id": "6cKPhEfMx054"
      },
      "source": [
        "## Task 8: Close the Connection\n",
        "\n",
        "We free all resources by closing the connection. Remember that it is always important to close connections so that we can avoid unused connections taking up resources.\n"
      ]
    },
    {
      "cell_type": "code",
      "execution_count": 33,
      "metadata": {
        "colab": {
          "base_uri": "https://localhost:8080/"
        },
        "id": "PAHkTUzhx055",
        "outputId": "24b180b9-30b2-4314-c69e-d3e5596709d1"
      },
      "outputs": [
        {
          "output_type": "execute_result",
          "data": {
            "text/plain": [
              "True"
            ]
          },
          "metadata": {},
          "execution_count": 33
        }
      ],
      "source": [
        "ibm_db.close(conn)"
      ]
    },
    {
      "cell_type": "markdown",
      "metadata": {
        "id": "XUcdZsDWx055"
      },
      "source": [
        "## Summary\n",
        "\n",
        "In this tutorial you established a connection to a database instance of DB2 Warehouse on Cloud from a Python notebook using ibm_db API. Then created a table and insert a few rows of data into it. Then queried the data. You also retrieved the data into a pandas dataframe.\n"
      ]
    },
    {
      "cell_type": "markdown",
      "metadata": {
        "id": "UncieLFKx056"
      },
      "source": [
        "## Author\n",
        "\n",
        "<a href=\"https://www.linkedin.com/in/ravahuja/?utm_medium=Exinfluencer&utm_source=Exinfluencer&utm_content=000026UJ&utm_term=10006555&utm_id=NA-SkillsNetwork-Channel-SkillsNetworkCoursesIBMDeveloperSkillsNetworkDB0201ENSkillsNetwork20127838-2021-01-01\" target=\"_blank\">Rav Ahuja</a>\n",
        "\n",
        "## Change Log\n",
        "\n",
        "| Date (YYYY-MM-DD) | Version | Changed By | Change Description                 |\n",
        "| ----------------- | ------- | ---------- | ---------------------------------- |\n",
        "| 2021-11-17        | 2.2     | Lakshmi    | Updated library                    |\n",
        "| 2021-07-09        | 2.1     | Malika     | Updated connection string          |\n",
        "| 2020-08-28        | 2.0     | Lavanya    | Moved lab to course repo in GitLab |\n",
        "\n",
        "<hr>\n",
        "\n",
        "## <h3 align=\"center\"> © IBM Corporation 2020. All rights reserved. <h3/>\n"
      ]
    }
  ],
  "metadata": {
    "kernelspec": {
      "display_name": "Python 3 (ipykernel)",
      "language": "python",
      "name": "python3"
    },
    "language_info": {
      "codemirror_mode": {
        "name": "ipython",
        "version": 3
      },
      "file_extension": ".py",
      "mimetype": "text/x-python",
      "name": "python",
      "nbconvert_exporter": "python",
      "pygments_lexer": "ipython3",
      "version": "3.9.7"
    },
    "colab": {
      "name": "DB0201EN-Week3-1-2-Querying.ipynb",
      "provenance": []
    }
  },
  "nbformat": 4,
  "nbformat_minor": 0
}